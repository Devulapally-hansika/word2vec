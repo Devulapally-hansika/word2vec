{
  "nbformat": 4,
  "nbformat_minor": 0,
  "metadata": {
    "colab": {
      "provenance": [],
      "include_colab_link": true
    },
    "kernelspec": {
      "name": "python3",
      "display_name": "Python 3"
    },
    "language_info": {
      "name": "python"
    }
  },
  "cells": [
    {
      "cell_type": "markdown",
      "metadata": {
        "id": "view-in-github",
        "colab_type": "text"
      },
      "source": [
        "<a href=\"https://colab.research.google.com/github/Devulapally-hansika/word2vec/blob/main/Copy_of_p%2Bs.ipynb\" target=\"_parent\"><img src=\"https://colab.research.google.com/assets/colab-badge.svg\" alt=\"Open In Colab\"/></a>"
      ]
    },
    {
      "cell_type": "code",
      "execution_count": null,
      "metadata": {
        "colab": {
          "base_uri": "https://localhost:8080/",
          "height": 74
        },
        "id": "JbuaggB4MoVw",
        "outputId": "2e35d9f6-196c-479a-f43d-828059119170"
      },
      "outputs": [
        {
          "output_type": "display_data",
          "data": {
            "text/plain": [
              "<IPython.core.display.HTML object>"
            ],
            "text/html": [
              "\n",
              "     <input type=\"file\" id=\"files-f0d625b6-935b-4821-8d6a-e853200a3f68\" name=\"files[]\" multiple disabled\n",
              "        style=\"border:none\" />\n",
              "     <output id=\"result-f0d625b6-935b-4821-8d6a-e853200a3f68\">\n",
              "      Upload widget is only available when the cell has been executed in the\n",
              "      current browser session. Please rerun this cell to enable.\n",
              "      </output>\n",
              "      <script>// Copyright 2017 Google LLC\n",
              "//\n",
              "// Licensed under the Apache License, Version 2.0 (the \"License\");\n",
              "// you may not use this file except in compliance with the License.\n",
              "// You may obtain a copy of the License at\n",
              "//\n",
              "//      http://www.apache.org/licenses/LICENSE-2.0\n",
              "//\n",
              "// Unless required by applicable law or agreed to in writing, software\n",
              "// distributed under the License is distributed on an \"AS IS\" BASIS,\n",
              "// WITHOUT WARRANTIES OR CONDITIONS OF ANY KIND, either express or implied.\n",
              "// See the License for the specific language governing permissions and\n",
              "// limitations under the License.\n",
              "\n",
              "/**\n",
              " * @fileoverview Helpers for google.colab Python module.\n",
              " */\n",
              "(function(scope) {\n",
              "function span(text, styleAttributes = {}) {\n",
              "  const element = document.createElement('span');\n",
              "  element.textContent = text;\n",
              "  for (const key of Object.keys(styleAttributes)) {\n",
              "    element.style[key] = styleAttributes[key];\n",
              "  }\n",
              "  return element;\n",
              "}\n",
              "\n",
              "// Max number of bytes which will be uploaded at a time.\n",
              "const MAX_PAYLOAD_SIZE = 100 * 1024;\n",
              "\n",
              "function _uploadFiles(inputId, outputId) {\n",
              "  const steps = uploadFilesStep(inputId, outputId);\n",
              "  const outputElement = document.getElementById(outputId);\n",
              "  // Cache steps on the outputElement to make it available for the next call\n",
              "  // to uploadFilesContinue from Python.\n",
              "  outputElement.steps = steps;\n",
              "\n",
              "  return _uploadFilesContinue(outputId);\n",
              "}\n",
              "\n",
              "// This is roughly an async generator (not supported in the browser yet),\n",
              "// where there are multiple asynchronous steps and the Python side is going\n",
              "// to poll for completion of each step.\n",
              "// This uses a Promise to block the python side on completion of each step,\n",
              "// then passes the result of the previous step as the input to the next step.\n",
              "function _uploadFilesContinue(outputId) {\n",
              "  const outputElement = document.getElementById(outputId);\n",
              "  const steps = outputElement.steps;\n",
              "\n",
              "  const next = steps.next(outputElement.lastPromiseValue);\n",
              "  return Promise.resolve(next.value.promise).then((value) => {\n",
              "    // Cache the last promise value to make it available to the next\n",
              "    // step of the generator.\n",
              "    outputElement.lastPromiseValue = value;\n",
              "    return next.value.response;\n",
              "  });\n",
              "}\n",
              "\n",
              "/**\n",
              " * Generator function which is called between each async step of the upload\n",
              " * process.\n",
              " * @param {string} inputId Element ID of the input file picker element.\n",
              " * @param {string} outputId Element ID of the output display.\n",
              " * @return {!Iterable<!Object>} Iterable of next steps.\n",
              " */\n",
              "function* uploadFilesStep(inputId, outputId) {\n",
              "  const inputElement = document.getElementById(inputId);\n",
              "  inputElement.disabled = false;\n",
              "\n",
              "  const outputElement = document.getElementById(outputId);\n",
              "  outputElement.innerHTML = '';\n",
              "\n",
              "  const pickedPromise = new Promise((resolve) => {\n",
              "    inputElement.addEventListener('change', (e) => {\n",
              "      resolve(e.target.files);\n",
              "    });\n",
              "  });\n",
              "\n",
              "  const cancel = document.createElement('button');\n",
              "  inputElement.parentElement.appendChild(cancel);\n",
              "  cancel.textContent = 'Cancel upload';\n",
              "  const cancelPromise = new Promise((resolve) => {\n",
              "    cancel.onclick = () => {\n",
              "      resolve(null);\n",
              "    };\n",
              "  });\n",
              "\n",
              "  // Wait for the user to pick the files.\n",
              "  const files = yield {\n",
              "    promise: Promise.race([pickedPromise, cancelPromise]),\n",
              "    response: {\n",
              "      action: 'starting',\n",
              "    }\n",
              "  };\n",
              "\n",
              "  cancel.remove();\n",
              "\n",
              "  // Disable the input element since further picks are not allowed.\n",
              "  inputElement.disabled = true;\n",
              "\n",
              "  if (!files) {\n",
              "    return {\n",
              "      response: {\n",
              "        action: 'complete',\n",
              "      }\n",
              "    };\n",
              "  }\n",
              "\n",
              "  for (const file of files) {\n",
              "    const li = document.createElement('li');\n",
              "    li.append(span(file.name, {fontWeight: 'bold'}));\n",
              "    li.append(span(\n",
              "        `(${file.type || 'n/a'}) - ${file.size} bytes, ` +\n",
              "        `last modified: ${\n",
              "            file.lastModifiedDate ? file.lastModifiedDate.toLocaleDateString() :\n",
              "                                    'n/a'} - `));\n",
              "    const percent = span('0% done');\n",
              "    li.appendChild(percent);\n",
              "\n",
              "    outputElement.appendChild(li);\n",
              "\n",
              "    const fileDataPromise = new Promise((resolve) => {\n",
              "      const reader = new FileReader();\n",
              "      reader.onload = (e) => {\n",
              "        resolve(e.target.result);\n",
              "      };\n",
              "      reader.readAsArrayBuffer(file);\n",
              "    });\n",
              "    // Wait for the data to be ready.\n",
              "    let fileData = yield {\n",
              "      promise: fileDataPromise,\n",
              "      response: {\n",
              "        action: 'continue',\n",
              "      }\n",
              "    };\n",
              "\n",
              "    // Use a chunked sending to avoid message size limits. See b/62115660.\n",
              "    let position = 0;\n",
              "    do {\n",
              "      const length = Math.min(fileData.byteLength - position, MAX_PAYLOAD_SIZE);\n",
              "      const chunk = new Uint8Array(fileData, position, length);\n",
              "      position += length;\n",
              "\n",
              "      const base64 = btoa(String.fromCharCode.apply(null, chunk));\n",
              "      yield {\n",
              "        response: {\n",
              "          action: 'append',\n",
              "          file: file.name,\n",
              "          data: base64,\n",
              "        },\n",
              "      };\n",
              "\n",
              "      let percentDone = fileData.byteLength === 0 ?\n",
              "          100 :\n",
              "          Math.round((position / fileData.byteLength) * 100);\n",
              "      percent.textContent = `${percentDone}% done`;\n",
              "\n",
              "    } while (position < fileData.byteLength);\n",
              "  }\n",
              "\n",
              "  // All done.\n",
              "  yield {\n",
              "    response: {\n",
              "      action: 'complete',\n",
              "    }\n",
              "  };\n",
              "}\n",
              "\n",
              "scope.google = scope.google || {};\n",
              "scope.google.colab = scope.google.colab || {};\n",
              "scope.google.colab._files = {\n",
              "  _uploadFiles,\n",
              "  _uploadFilesContinue,\n",
              "};\n",
              "})(self);\n",
              "</script> "
            ]
          },
          "metadata": {}
        },
        {
          "output_type": "stream",
          "name": "stdout",
          "text": [
            "Saving word2vec.txt to word2vec (1).txt\n"
          ]
        }
      ],
      "source": [
        "from google.colab import files\n",
        "uploaded = files.upload()"
      ]
    },
    {
      "cell_type": "code",
      "source": [
        "with open('word2vec.txt', 'r') as file:\n",
        "    word2vec = file.readlines()\n",
        "\n",
        "\n",
        "print(word2vec)"
      ],
      "metadata": {
        "colab": {
          "base_uri": "https://localhost:8080/"
        },
        "id": "-UlXQEUgOLgG",
        "outputId": "97fa7c3b-e68c-48bf-be9d-225d6fd38309"
      },
      "execution_count": null,
      "outputs": [
        {
          "output_type": "stream",
          "name": "stdout",
          "text": [
            "['The future king is the prince\\n', 'Daughter is the princess\\n', 'Son is the prince\\n', 'Only a man can be a king\\n', 'Only a woman can be a queen\\n', 'The princess will be a queen\\n', 'The prince is a strong man\\n', 'The princess is a beautiful woman\\n', 'Prince is only a boy now\\n', 'Prince will be king\\n', 'A boy will be a man\\n']\n"
          ]
        }
      ]
    },
    {
      "cell_type": "code",
      "source": [
        "for i in range(len(word2vec)):\n",
        "    word2vec[i] = word2vec[i].lower().replace('\\n', '')\n",
        "\n",
        "print(word2vec)"
      ],
      "metadata": {
        "colab": {
          "base_uri": "https://localhost:8080/"
        },
        "id": "PeiwzSEVOeQr",
        "outputId": "e09a7bc2-6021-4432-e22e-910585721e7b"
      },
      "execution_count": null,
      "outputs": [
        {
          "output_type": "stream",
          "name": "stdout",
          "text": [
            "['the future king is the prince', 'daughter is the princess', 'son is the prince', 'only a man can be a king', 'only a woman can be a queen', 'the princess will be a queen', 'the prince is a strong man', 'the princess is a beautiful woman', 'prince is only a boy now', 'prince will be king', 'a boy will be a man']\n"
          ]
        }
      ]
    },
    {
      "cell_type": "code",
      "source": [
        "stopwords = ['the', 'is', 'will', 'be', 'a', 'only', 'can', 'their', 'now', 'and', 'at', 'it']\n",
        "\n",
        "filtered_data = []\n",
        "for sent in word2vec:\n",
        "    temp = []\n",
        "    for word in sent.split():\n",
        "        if word not in stopwords:\n",
        "            temp.append(word)\n",
        "    filtered_data.append(temp)\n",
        "\n",
        "print(filtered_data)"
      ],
      "metadata": {
        "colab": {
          "base_uri": "https://localhost:8080/"
        },
        "id": "JgoFT5AGOl5S",
        "outputId": "4c0ec30f-274c-4fb9-8f66-fe7637530a84"
      },
      "execution_count": null,
      "outputs": [
        {
          "output_type": "stream",
          "name": "stdout",
          "text": [
            "[['future', 'king', 'prince'], ['daughter', 'princess'], ['son', 'prince'], ['man', 'king'], ['woman', 'queen'], ['princess', 'queen'], ['prince', 'strong', 'man'], ['princess', 'beautiful', 'woman'], ['prince', 'boy'], ['prince', 'king'], ['boy', 'man']]\n"
          ]
        }
      ]
    },
    {
      "cell_type": "code",
      "source": [
        "bigrams = []\n",
        "for words_list in filtered_data:\n",
        "    for i in range(len(words_list) - 1):\n",
        "        for j in range(i+1, len(words_list)):\n",
        "            bigrams.append([words_list[i], words_list[j]])\n",
        "            bigrams.append([words_list[j], words_list[i]])"
      ],
      "metadata": {
        "id": "o009-QYQOpez"
      },
      "execution_count": null,
      "outputs": []
    },
    {
      "cell_type": "code",
      "source": [
        "all_words = []\n",
        "for bi in bigrams:\n",
        "    all_words.extend(bi)\n",
        "\n",
        "all_words = list(set(all_words))\n",
        "all_words.sort()\n",
        "\n",
        "print(all_words)\n",
        "print(\"Total number of unique words are:\", len(all_words))"
      ],
      "metadata": {
        "colab": {
          "base_uri": "https://localhost:8080/"
        },
        "id": "e4iOoOZ0Otai",
        "outputId": "f50535d3-34b0-4f03-f15b-3df21e28d67d"
      },
      "execution_count": null,
      "outputs": [
        {
          "output_type": "stream",
          "name": "stdout",
          "text": [
            "['beautiful', 'boy', 'daughter', 'future', 'king', 'man', 'prince', 'princess', 'queen', 'son', 'strong', 'woman']\n",
            "Total number of unique words are: 12\n"
          ]
        }
      ]
    },
    {
      "cell_type": "code",
      "source": [
        "words_dict = {}\n",
        "\n",
        "counter = 0\n",
        "for word in all_words:\n",
        "    words_dict[word] = counter\n",
        "    counter += 1\n",
        "\n",
        "print(words_dict)"
      ],
      "metadata": {
        "colab": {
          "base_uri": "https://localhost:8080/"
        },
        "id": "4VcjbxaoOy8p",
        "outputId": "628f578f-c8c9-4fa4-f6d4-c2b7c1a835e2"
      },
      "execution_count": null,
      "outputs": [
        {
          "output_type": "stream",
          "name": "stdout",
          "text": [
            "{'beautiful': 0, 'boy': 1, 'daughter': 2, 'future': 3, 'king': 4, 'man': 5, 'prince': 6, 'princess': 7, 'queen': 8, 'son': 9, 'strong': 10, 'woman': 11}\n"
          ]
        }
      ]
    },
    {
      "cell_type": "code",
      "source": [
        "import numpy as np\n",
        "\n",
        "onehot_data = np.zeros((len(all_words), len(all_words)))\n",
        "\n",
        "for i in range(len(all_words)):\n",
        "    onehot_data[i][i] = 1\n",
        "\n",
        "onehot_dict = {}\n",
        "counter = 0\n",
        "for word in all_words:\n",
        "    onehot_dict[word] = onehot_data[counter]\n",
        "    counter += 1\n",
        "\n",
        "for word in onehot_dict:\n",
        "    print(word, \":\", onehot_dict[word])"
      ],
      "metadata": {
        "colab": {
          "base_uri": "https://localhost:8080/"
        },
        "id": "kapTPoODO7hB",
        "outputId": "fccaa337-7b9c-44da-e392-8a4d9e1bbf35"
      },
      "execution_count": null,
      "outputs": [
        {
          "output_type": "stream",
          "name": "stdout",
          "text": [
            "beautiful : [1. 0. 0. 0. 0. 0. 0. 0. 0. 0. 0. 0.]\n",
            "boy : [0. 1. 0. 0. 0. 0. 0. 0. 0. 0. 0. 0.]\n",
            "daughter : [0. 0. 1. 0. 0. 0. 0. 0. 0. 0. 0. 0.]\n",
            "future : [0. 0. 0. 1. 0. 0. 0. 0. 0. 0. 0. 0.]\n",
            "king : [0. 0. 0. 0. 1. 0. 0. 0. 0. 0. 0. 0.]\n",
            "man : [0. 0. 0. 0. 0. 1. 0. 0. 0. 0. 0. 0.]\n",
            "prince : [0. 0. 0. 0. 0. 0. 1. 0. 0. 0. 0. 0.]\n",
            "princess : [0. 0. 0. 0. 0. 0. 0. 1. 0. 0. 0. 0.]\n",
            "queen : [0. 0. 0. 0. 0. 0. 0. 0. 1. 0. 0. 0.]\n",
            "son : [0. 0. 0. 0. 0. 0. 0. 0. 0. 1. 0. 0.]\n",
            "strong : [0. 0. 0. 0. 0. 0. 0. 0. 0. 0. 1. 0.]\n",
            "woman : [0. 0. 0. 0. 0. 0. 0. 0. 0. 0. 0. 1.]\n"
          ]
        }
      ]
    },
    {
      "cell_type": "code",
      "source": [
        "X = []\n",
        "Y = []\n",
        "\n",
        "for bi in bigrams:\n",
        "    X.append(onehot_dict[bi[0]])\n",
        "    Y.append(onehot_dict[bi[1]])\n",
        "\n",
        "X = np.array(X)\n",
        "Y = np.array(Y)"
      ],
      "metadata": {
        "id": "8SlaQ52SO_qh"
      },
      "execution_count": null,
      "outputs": []
    },
    {
      "cell_type": "code",
      "source": [
        "from keras.models import Sequential\n",
        "from keras.layers import Dense\n",
        "\n",
        "embed_size = 2\n",
        "\n",
        "model = Sequential([\n",
        "    Dense(embed_size, activation='linear'),\n",
        "    Dense(Y.shape[1], activation = 'softmax')\n",
        "])\n",
        "\n",
        "model.compile(loss = 'categorical_crossentropy', optimizer = 'adam')"
      ],
      "metadata": {
        "id": "aELr4cyEPIVx"
      },
      "execution_count": null,
      "outputs": []
    },
    {
      "cell_type": "code",
      "source": [
        "model.fit(X, Y, epochs = 1000, batch_size = 256, verbose = False)"
      ],
      "metadata": {
        "colab": {
          "base_uri": "https://localhost:8080/"
        },
        "id": "wPO02_bUPL4Z",
        "outputId": "6d0a6d8c-63df-4555-eefd-382e6d055613"
      },
      "execution_count": null,
      "outputs": [
        {
          "output_type": "execute_result",
          "data": {
            "text/plain": [
              "<keras.src.callbacks.history.History at 0x7c9b24adfe10>"
            ]
          },
          "metadata": {},
          "execution_count": 13
        }
      ]
    },
    {
      "cell_type": "code",
      "source": [
        "weights = model.get_weights()[0]\n",
        "\n",
        "word_embeddings = {}\n",
        "for word in all_words:\n",
        "    word_embeddings[word] = weights[words_dict[word]]\n",
        "print(word_embeddings)"
      ],
      "metadata": {
        "colab": {
          "base_uri": "https://localhost:8080/"
        },
        "id": "XJ1hDwcIPVrg",
        "outputId": "eddbace0-db97-48b4-9352-6633db6af53a"
      },
      "execution_count": null,
      "outputs": [
        {
          "output_type": "stream",
          "name": "stdout",
          "text": [
            "{'beautiful': array([-0.8645795,  0.643513 ], dtype=float32), 'boy': array([-0.91710955, -0.7582309 ], dtype=float32), 'daughter': array([-1.4370902,  1.383243 ], dtype=float32), 'future': array([-0.12635818, -1.1446846 ], dtype=float32), 'king': array([-0.38752833, -1.3775138 ], dtype=float32), 'man': array([ 0.6096541, -1.4302877], dtype=float32), 'prince': array([ 1.2496881, -1.1890332], dtype=float32), 'princess': array([0.92423475, 1.6733329 ], dtype=float32), 'queen': array([-1.1252286,  1.0161192], dtype=float32), 'son': array([-0.79749954, -0.8025803 ], dtype=float32), 'strong': array([-0.8561049, -0.8833067], dtype=float32), 'woman': array([-0.2446829,  1.1290656], dtype=float32)}\n"
          ]
        }
      ]
    },
    {
      "cell_type": "code",
      "source": [
        "import matplotlib.pyplot as plt\n",
        "\n",
        "# plt.figure(figsize = (10, 10))\n",
        "for word in list(words_dict.keys()):\n",
        "    coord = word_embeddings.get(word)\n",
        "    plt.scatter(coord[0], coord[1])\n",
        "    plt.annotate(word, (coord[0], coord[1]))\n",
        "\n",
        "plt.savefig('img.jpg')"
      ],
      "metadata": {
        "colab": {
          "base_uri": "https://localhost:8080/",
          "height": 430
        },
        "id": "JwKcf-m-Pf5A",
        "outputId": "bccf24f2-bebf-4410-f9e9-b883ec29768d"
      },
      "execution_count": null,
      "outputs": [
        {
          "output_type": "display_data",
          "data": {
            "text/plain": [
              "<Figure size 640x480 with 1 Axes>"
            ],
            "image/png": "[encoded data removed]"
          },
          "metadata": {}
        }
      ]
    },
    {
      "cell_type": "code",
      "source": [
        "import numpy as np\n",
        "import tensorflow as tf\n",
        "from tensorflow.keras.layers import Dense\n",
        "import matplotlib.pyplot as plt"
      ],
      "metadata": {
        "id": "2CgmYXgoPr9n"
      },
      "execution_count": null,
      "outputs": []
    },
    {
      "cell_type": "code",
      "source": [
        "import numpy as np\n",
        "import tensorflow as tf\n",
        "from tensorflow.keras.layers import Dense, Layer\n"
      ],
      "metadata": {
        "id": "0jTQ3RQbh42s"
      },
      "execution_count": null,
      "outputs": []
    },
    {
      "cell_type": "code",
      "source": [
        "\n",
        "X = np.eye(10)"
      ],
      "metadata": {
        "id": "CjuTMpoGiu3m"
      },
      "execution_count": null,
      "outputs": []
    },
    {
      "cell_type": "code",
      "source": [
        "def positional_encoding(length, d_model):\n",
        "    pos = np.arange(length)[:, np.newaxis]\n",
        "    i = np.arange(d_model)[np.newaxis, :]\n",
        "    angle_rates = 1 / np.power(10000, (2 * (i // 2)) / np.float32(d_model))\n",
        "    angle_rads = pos * angle_rates\n",
        "    angle_rads[:, 0::2] = np.sin(angle_rads[:, 0::2])\n",
        "    angle_rads[:, 1::2] = np.cos(angle_rads[:, 1::2])\n",
        "    return tf.cast(angle_rads, dtype=tf.float32)\n",
        "\n",
        "X_tensor = tf.convert_to_tensor(X, dtype=tf.float32)\n",
        "X_with_pos = X_tensor + positional_encoding(X_tensor.shape[0], X_tensor.shape[1])\n"
      ],
      "metadata": {
        "id": "CZo4GH5Rix3i"
      },
      "execution_count": null,
      "outputs": []
    },
    {
      "cell_type": "code",
      "source": [
        "class MultiHeadSelfAttention(Layer):\n",
        "    def __init__(self, d_model, num_heads):\n",
        "        super().__init__()\n",
        "        assert d_model % num_heads == 0\n",
        "\n",
        "        self.num_heads = num_heads\n",
        "        self.depth = d_model // num_heads\n",
        "        self.Wq = Dense(d_model)\n",
        "        self.Wk = Dense(d_model)\n",
        "        self.Wv = Dense(d_model)\n",
        "        self.dense = Dense(d_model)\n",
        "\n",
        "    def split_heads(self, x, batch_size):\n",
        "        x = tf.reshape(x, (batch_size, -1, self.num_heads, self.depth))\n",
        "        return tf.transpose(x, perm=[0, 2, 1, 3])\n",
        "\n",
        "    def call(self, x):\n",
        "        batch_size = tf.shape(x)[0]\n",
        "        Q = self.split_heads(self.Wq(x), batch_size)\n",
        "        K = self.split_heads(self.Wk(x), batch_size)\n",
        "        V = self.split_heads(self.Wv(x), batch_size)\n",
        "\n",
        "        score = tf.matmul(Q, K, transpose_b=True) / tf.math.sqrt(tf.cast(self.depth, tf.float32))\n",
        "        weights = tf.nn.softmax(score, axis=-1)\n",
        "        output = tf.matmul(weights, V)\n",
        "\n",
        "        output = tf.transpose(output, perm=[0, 2, 1, 3])\n",
        "        concat = tf.reshape(output, (batch_size, -1, self.num_heads * self.depth))\n",
        "\n",
        "        return self.dense(concat)\n"
      ],
      "metadata": {
        "id": "BpO8EtXyi0ZY"
      },
      "execution_count": null,
      "outputs": []
    },
    {
      "cell_type": "code",
      "source": [
        "X_batch = tf.expand_dims(X_with_pos, 0)\n",
        "\n",
        "mha = MultiHeadSelfAttention(d_model=X.shape[1], num_heads=2)\n",
        "attention_output = mha(X_batch)\n",
        "\n",
        "attention_output = tf.squeeze(attention_output).numpy()\n",
        "print(\"Output shape:\", attention_output.shape)\n"
      ],
      "metadata": {
        "colab": {
          "base_uri": "https://localhost:8080/"
        },
        "id": "O_MC_t55i6x9",
        "outputId": "e1ec0ca3-6204-4259-a085-7ab41640d716"
      },
      "execution_count": null,
      "outputs": [
        {
          "output_type": "stream",
          "name": "stdout",
          "text": [
            "Output shape: (10, 10)\n"
          ]
        }
      ]
    },
    {
      "cell_type": "code",
      "source": [
        "num_points = min(len(all_words), reduced.shape[0])\n",
        "\n",
        "plt.figure(figsize=(8, 8))\n",
        "for i in range(num_points):\n",
        "    x, y = reduced[i]\n",
        "    word = all_words[i]\n",
        "    plt.scatter(x, y)\n",
        "    plt.annotate(word, (x, y), fontsize=10)\n",
        "\n",
        "plt.title(\"Multi-Head Attention Embeddings (PCA projection)\")\n",
        "plt.grid(True)\n",
        "plt.show()\n"
      ],
      "metadata": {
        "colab": {
          "base_uri": "https://localhost:8080/",
          "height": 699
        },
        "id": "dyHOEzJymai8",
        "outputId": "0d8aeb1c-a118-457a-8f45-640958befa29"
      },
      "execution_count": null,
      "outputs": [
        {
          "output_type": "display_data",
          "data": {
            "text/plain": [
              "<Figure size 800x800 with 1 Axes>"
            ],
            "image/png": "[encoded data removed]"
          },
          "metadata": {}
        }
      ]
    },
    {
      "cell_type": "code",
      "source": [],
      "metadata": {
        "id": "xaRcaKdDm0VK"
      },
      "execution_count": null,
      "outputs": []
    }
  ]
}